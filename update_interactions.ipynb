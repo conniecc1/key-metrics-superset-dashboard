{
 "cells": [
  {
   "cell_type": "markdown",
   "id": "4b8dcc56",
   "metadata": {},
   "source": [
    "## interactions"
   ]
  },
  {
   "cell_type": "markdown",
   "id": "f88aa8f0",
   "metadata": {},
   "source": [
    "Update cchen.repo_diversity_interactions table for Superset dashboard monthly"
   ]
  },
  {
   "cell_type": "code",
   "execution_count": 1,
   "id": "b51a9a26",
   "metadata": {},
   "outputs": [],
   "source": [
    "import time\n",
    "import datetime\n",
    "\n",
    "import pandas as pd\n",
    "import requests\n",
    "from wmfdata import hive\n",
    "import os"
   ]
  },
  {
   "cell_type": "code",
   "execution_count": 2,
   "id": "5b9d2889",
   "metadata": {},
   "outputs": [],
   "source": [
    "last_month = datetime.date.today().replace(day=1) - datetime.timedelta(days=1)\n",
    "\n",
    "METRICS_MONTH_TEXT = last_month.strftime(\"%Y-%m\")\n",
    "metrics_month = pd.Period(METRICS_MONTH_TEXT)"
   ]
  },
  {
   "cell_type": "code",
   "execution_count": 3,
   "id": "a1503228",
   "metadata": {},
   "outputs": [
    {
     "data": {
      "text/plain": [
       "Period('2021-10', 'M')"
      ]
     },
     "execution_count": 3,
     "metadata": {},
     "output_type": "execute_result"
    }
   ],
   "source": [
    "metrics_month"
   ]
  },
  {
   "cell_type": "code",
   "execution_count": 4,
   "id": "8ef1e25c",
   "metadata": {},
   "outputs": [
    {
     "data": {
      "text/html": [
       "<div>\n",
       "<style scoped>\n",
       "    .dataframe tbody tr th:only-of-type {\n",
       "        vertical-align: middle;\n",
       "    }\n",
       "\n",
       "    .dataframe tbody tr th {\n",
       "        vertical-align: top;\n",
       "    }\n",
       "\n",
       "    .dataframe thead th {\n",
       "        text-align: right;\n",
       "    }\n",
       "</style>\n",
       "<table border=\"1\" class=\"dataframe\">\n",
       "  <thead>\n",
       "    <tr style=\"text-align: right;\">\n",
       "      <th></th>\n",
       "      <th>_col0</th>\n",
       "      <th>_col1</th>\n",
       "      <th>_col2</th>\n",
       "      <th>_col3</th>\n",
       "      <th>_col4</th>\n",
       "      <th>_col5</th>\n",
       "      <th>_col6</th>\n",
       "    </tr>\n",
       "  </thead>\n",
       "  <tbody>\n",
       "  </tbody>\n",
       "</table>\n",
       "</div>"
      ],
      "text/plain": [
       "Empty DataFrame\n",
       "Columns: [_col0, _col1, _col2, _col3, _col4, _col5, _col6]\n",
       "Index: []"
      ]
     },
     "execution_count": 4,
     "metadata": {},
     "output_type": "execute_result"
    }
   ],
   "source": [
    "## add interactions\n",
    "hive.run(\n",
    "\"\"\"\n",
    "insert into cchen.repo_diversity_interactions \n",
    "\n",
    "SELECT  month, project, project_family, agent_type, market, access_method, sum(interactions) as interactions \n",
    "FROM\n",
    "(\n",
    "    SELECT \n",
    "            CONCAT(year,'-',LPAD(month,2,'0'),'-01 00:00:00.0') AS month,\n",
    "            'pageviews' AS type,\n",
    "            project, \n",
    "            canonical.database_group AS project_family,\n",
    "            agent_type,\n",
    "            countries.economic_region AS market,\n",
    "            access_method, \n",
    "            SUM(view_count) AS interactions\n",
    "        FROM wmf.pageview_hourly pv\n",
    "            LEFT JOIN canonical_data.countries AS countries ON pv.country_code = countries.iso_code\n",
    "            LEFT JOIN canonical_data.wikis AS canonical ON CONCAT(pv.project,'.org') = canonical.domain_name\n",
    "       WHERE (year = {year} and month = {month} )\n",
    "            AND agent_type != 'spider'\n",
    "            AND NOT (country_code IN ('PK', 'IR', 'AF') \n",
    "            AND user_agent_map['browser_family'] = 'IE') \n",
    "        GROUP BY CONCAT(year,'-',LPAD(month,2,'0'),'-01 00:00:00.0'),\n",
    "            canonical.database_group, \n",
    "            project,\n",
    "            agent_type,\n",
    "            access_method,\n",
    "            countries.economic_region\n",
    "    union all\n",
    "    SELECT  \n",
    "            CONCAT(year,'-',LPAD(month,2,'0'),'-01 00:00:00.0') AS month, \n",
    "            'previews' AS type, \n",
    "             project,  \n",
    "             canonical.database_group AS project_family, \n",
    "             agent_type, \n",
    "             countries.economic_region AS market, \n",
    "             access_method,  \n",
    "             SUM(view_count) AS interactions \n",
    "        FROM wmf.virtualpageview_hourly pv  \n",
    "            LEFT JOIN canonical_data.countries AS countries ON pv.country_code = countries.iso_code \n",
    "            LEFT JOIN canonical_data.wikis AS canonical ON CONCAT(pv.project,'.org') = canonical.domain_name \n",
    "        WHERE (year = {year} and month = {month} )\n",
    "            AND agent_type != 'spider' \n",
    "        GROUP BY CONCAT(year,'-',LPAD(month,2,'0'),'-01 00:00:00.0'),\n",
    "                canonical.database_group, \n",
    "                project,\n",
    "                agent_type,\n",
    "                access_method,\n",
    "                countries.economic_region\n",
    ") x\n",
    "group by  month, project, project_family, agent_type, market, access_method\n",
    "\n",
    "\"\"\".format(\n",
    "        year = metrics_month.year,\n",
    "        month = metrics_month.month\n",
    "    ))"
   ]
  },
  {
   "cell_type": "code",
   "execution_count": 5,
   "id": "705eca0f",
   "metadata": {},
   "outputs": [
    {
     "data": {
      "text/plain": [
       "0"
      ]
     },
     "execution_count": 5,
     "metadata": {},
     "output_type": "execute_result"
    }
   ],
   "source": [
    "#update permission \n",
    "os.system(\"hdfs dfs -chmod -R o+r /user/hive/warehouse/cchen.db/repo_diversity_interactions\")"
   ]
  },
  {
   "cell_type": "code",
   "execution_count": null,
   "id": "de01f7e0",
   "metadata": {},
   "outputs": [],
   "source": []
  }
 ],
 "metadata": {
  "kernelspec": {
   "display_name": "Python 3",
   "language": "python",
   "name": "python3"
  },
  "language_info": {
   "codemirror_mode": {
    "name": "ipython",
    "version": 3
   },
   "file_extension": ".py",
   "mimetype": "text/x-python",
   "name": "python",
   "nbconvert_exporter": "python",
   "pygments_lexer": "ipython3",
   "version": "3.7.6"
  }
 },
 "nbformat": 4,
 "nbformat_minor": 5
}
